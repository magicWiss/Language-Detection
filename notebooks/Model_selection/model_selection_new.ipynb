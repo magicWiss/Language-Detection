{
 "cells": [
  {
   "attachments": {},
   "cell_type": "markdown",
   "metadata": {},
   "source": [
    "### Pipeline\n",
    "#### Src: Language-Detection\\Dataset\\Dataset_agumented1.csv\n",
    "#### Train-test slipt: 80-20\n",
    "#### Embedding: tf-idf vectorization\n",
    "#### Crossvalidation: 5-k fold\n",
    "#### Model: GaussianNB (Bayesian classifier)"
   ]
  },
  {
   "attachments": {},
   "cell_type": "markdown",
   "metadata": {},
   "source": [
    "# =============================="
   ]
  },
  {
   "attachments": {},
   "cell_type": "markdown",
   "metadata": {},
   "source": [
    "## Importing modules and dataset"
   ]
  },
  {
   "cell_type": "code",
   "execution_count": 1,
   "metadata": {},
   "outputs": [],
   "source": [
    "import pandas as pd\n",
    "from sklearn.feature_extraction.text import CountVectorizer, TfidfVectorizer\n",
    "import pandas as pd\n",
    "from imblearn.over_sampling import SMOTE\n",
    "import pickle\n",
    "\n",
    "from sklearn.model_selection import train_test_split\n",
    "\n",
    "\n",
    "\n",
    "target_acc=0.97\n",
    "target_f1=0.95"
   ]
  },
  {
   "attachments": {},
   "cell_type": "markdown",
   "metadata": {},
   "source": [
    "## Defining utils methods"
   ]
  },
  {
   "cell_type": "code",
   "execution_count": 2,
   "metadata": {},
   "outputs": [],
   "source": [
    "# train test split method\n",
    "def get_train_test_split(data):\n",
    "    X_train, X_test , y_train, y_test = train_test_split(data['Text'].values,data['Class'].values,test_size=0.2,random_state=123,stratify=data['Class'].values)\n",
    "    return [X_train,X_test,y_train,y_test]\n"
   ]
  },
  {
   "cell_type": "code",
   "execution_count": 3,
   "metadata": {},
   "outputs": [],
   "source": [
    "#Method to trasfrom input via selected embedding\n",
    "#Input: vector to embed, embedding obj\n",
    "#Output: input vector transformed\n",
    "def trasform_embedding(X,embedding):\n",
    "    tfidf_vectors = embedding.transform(X).toarray()\n",
    "    return tfidf_vectors\n",
    "\n"
   ]
  },
  {
   "cell_type": "code",
   "execution_count": 4,
   "metadata": {},
   "outputs": [],
   "source": [
    "# Method to save the embedding via pickle library\n",
    "def save_embedding(embedding,name_file):\n",
    "    \n",
    "\n",
    "    base_path=\"..\\\\..\\\\models\\\\\"\n",
    "    extension='.pkl'\n",
    "    Pkl_Filename = base_path+name_file+extension  \n",
    "\n",
    "    with open(Pkl_Filename, 'wb') as file:  \n",
    "        pickle.dump(embedding, file)\n"
   ]
  },
  {
   "cell_type": "code",
   "execution_count": 5,
   "metadata": {},
   "outputs": [],
   "source": [
    "#Method to gather stats from the train-test split\n",
    "#Input: X_train, Y_train\n",
    "#Output: total observations, italian observations, not_italian_observation\n",
    "def get_stats_ita_not_ita(X,Y):\n",
    "    data=[]\n",
    "    i=0\n",
    "    for i in range(len(Y)):\n",
    "        data.append([X[i],Y[i]])\n",
    "\n",
    "    data_vis=pd.DataFrame(data=data,columns=['Text','Class'])\n",
    "    italian=len(data_vis[data_vis['Class']==1])\n",
    "    not_italian=len(data_vis[data_vis['Class']==0])\n",
    "    total=data_vis.shape[0]\n",
    "    print('Tot:',total,'Ita:',italian,'Not:',not_italian)\n",
    "    return (total,italian,not_italian)"
   ]
  },
  {
   "cell_type": "code",
   "execution_count": 6,
   "metadata": {},
   "outputs": [],
   "source": [
    "#Cross-validation function\n",
    "\n",
    "from sklearn.model_selection import cross_validate\n",
    "def cross_validation(model, _X, _y, _cv=5):\n",
    "      \n",
    "      _scoring = ['accuracy', 'precision', 'recall', 'f1']\n",
    "      results = cross_validate(estimator=model,\n",
    "                               X=_X,\n",
    "                               y=_y,\n",
    "                               cv=_cv,\n",
    "                               scoring=_scoring,\n",
    "                               return_train_score=True)\n",
    "      \n",
    "      return {\"Training Accuracy scores\": results['train_accuracy'],\n",
    "              \"Mean Training Accuracy\": results['train_accuracy'].mean()*100,\n",
    "              \"Training Precision scores\": results['train_precision'],\n",
    "              \"Mean Training Precision\": results['train_precision'].mean(),\n",
    "              \"Training Recall scores\": results['train_recall'],\n",
    "              \"Mean Training Recall\": results['train_recall'].mean(),\n",
    "              \"Training F1 scores\": results['train_f1'],\n",
    "              \"Mean Training F1 Score\": results['train_f1'].mean(),\n",
    "              \"Validation Accuracy scores\": results['test_accuracy'],\n",
    "              \"Mean Validation Accuracy\": results['test_accuracy'].mean()*100,\n",
    "              \"Validation Precision scores\": results['test_precision'],\n",
    "              \"Mean Validation Precision\": results['test_precision'].mean(),\n",
    "              \"Validation Recall scores\": results['test_recall'],\n",
    "              \"Mean Validation Recall\": results['test_recall'].mean(),\n",
    "              \"Validation F1 scores\": results['test_f1'],\n",
    "              \"Mean Validation F1 Score\": results['test_f1'].mean(),\n",
    "              \n",
    "              }"
   ]
  },
  {
   "cell_type": "code",
   "execution_count": 7,
   "metadata": {},
   "outputs": [],
   "source": [
    "#Plotting the cross-validation results\n",
    "import matplotlib.pyplot as plt\n",
    "import numpy as np\n",
    "def plot_result(x_label, y_label, plot_title, train_data, val_data):\n",
    "        \n",
    "        \n",
    "        # Set size of plot\n",
    "        plt.figure(figsize=(8,5))\n",
    "        labels = [\"1st Fold\", \"2nd Fold\", \"3rd Fold\", \"4th Fold\", \"5th Fold\"]\n",
    "        X_axis = np.arange(len(labels))\n",
    "        ax = plt.gca()\n",
    "        plt.ylim(0.40000, 1)\n",
    "        plt.bar(X_axis-0.2, train_data, 0.4, color='blue', label='Training')\n",
    "        plt.bar(X_axis+0.2, val_data, 0.4, color='red', label='Validation')\n",
    "        plt.title(plot_title, fontsize=30)\n",
    "        plt.xticks(X_axis, labels)\n",
    "        plt.xlabel(x_label, fontsize=14)\n",
    "        plt.ylabel(y_label, fontsize=14)\n",
    "        plt.legend()\n",
    "        plt.grid(True)\n",
    "        plt.show()"
   ]
  },
  {
   "cell_type": "code",
   "execution_count": 8,
   "metadata": {},
   "outputs": [],
   "source": [
    "#Method to save the model via pickle\n",
    "import pickle\n",
    "def save_model(model,fileName):\n",
    "    base_path=\"..\\\\..\\\\models\\\\\"\n",
    "    extension='.pkl'\n",
    "    Pkl_Filename = base_path+fileName+extension  \n",
    "\n",
    "    with open(Pkl_Filename, 'wb') as file:  \n",
    "        pickle.dump(model, file)"
   ]
  },
  {
   "cell_type": "code",
   "execution_count": 177,
   "metadata": {},
   "outputs": [],
   "source": [
    "#Method to load the model\n",
    "def load_model(name):\n",
    "    \n",
    "    base_path='..\\\\..\\\\models\\\\'\n",
    "    ext='.pkl'\n",
    "    name=base_path+name+ext\n",
    "    with open(name, 'rb') as file:  \n",
    "        model = pickle.load(file)\n",
    "    return model"
   ]
  },
  {
   "cell_type": "code",
   "execution_count": 10,
   "metadata": {},
   "outputs": [],
   "source": [
    "# Method used to create a dataframe with text, y_true and y_predicted by the model\n",
    "def get_data_stats(X,Y,Y_true):\n",
    "    data=[]\n",
    "    for i in range(0,len(X)):\n",
    "        data.append([X[i],Y[i],Y_true[i]])\n",
    "    \n",
    "    out=pd.DataFrame(data=data,columns=['Text','f(x)','true'])\n",
    "    return out"
   ]
  },
  {
   "cell_type": "code",
   "execution_count": 11,
   "metadata": {},
   "outputs": [],
   "source": [
    "def plot_stats_train_test_split(total,italian_entry,other):\n",
    "    #Plotting the data computed in the prev. cell\n",
    "    entyes={'Total':total/total ,'Not_italian':other/total, 'Italian': italian_entry/total}\n",
    "    Label = list(entyes.keys())\n",
    "    occ = list(entyes.values())\n",
    "    fig = plt.figure(figsize = (7, 5))\n",
    "    \n",
    "    # creating the bar plot\n",
    "    plt.bar(Label, occ,\n",
    "            width = 0.4)\n",
    "    \n",
    "    plt.xlabel(\"Labels\")\n",
    "    plt.ylabel(\"#Number\")\n",
    "    plt.title(\"Class to occ.\")\n",
    "    plt.show()"
   ]
  },
  {
   "cell_type": "code",
   "execution_count": 12,
   "metadata": {},
   "outputs": [],
   "source": [
    "#cleaning data\n",
    "def claean_data(data):\n",
    "    data=data.fillna('0')\n",
    "    data=data[data['Text']!='0']\n",
    "    return data"
   ]
  },
  {
   "cell_type": "code",
   "execution_count": 13,
   "metadata": {},
   "outputs": [],
   "source": [
    "def visualize_cross_val_accuracy(model_name,model_stats):\n",
    "    \n",
    "    plot_result(model_name,\n",
    "            \"Accuracy\",\n",
    "            \"Accuracy scores in 5 Folds\",\n",
    "            model_stats[\"Training Accuracy scores\"],\n",
    "            model_stats[\"Validation Accuracy scores\"])"
   ]
  },
  {
   "cell_type": "code",
   "execution_count": 14,
   "metadata": {},
   "outputs": [],
   "source": [
    "#Visualizing the traing F1 and validation F1\n",
    "def visualize_cross_val_F1(model_name,model_stats):\n",
    "    \n",
    "    plot_result(model_name,\n",
    "            \"F1\",\n",
    "            \"F1 scores in 5 fold\",\n",
    "            model_stats[\"Training F1 scores\"],\n",
    "            model_stats[\"Validation F1 scores\"])"
   ]
  },
  {
   "attachments": {},
   "cell_type": "markdown",
   "metadata": {},
   "source": [
    "# ===========================================\n"
   ]
  },
  {
   "attachments": {},
   "cell_type": "markdown",
   "metadata": {},
   "source": [
    "# Preprocessing pipeline\n",
    "### Dataset->Embed dataset->Oversampling (Smote)\n"
   ]
  },
  {
   "cell_type": "code",
   "execution_count": 15,
   "metadata": {},
   "outputs": [
    {
     "name": "stdout",
     "output_type": "stream",
     "text": [
      "Before cleaning: 11722\n",
      "After cleaning: 11717\n",
      "Training\n",
      "Tot: 9373 Ita: 1666 Not: 7707\n"
     ]
    },
    {
     "data": {
      "image/png": "[encoded data removed]",
      "text/plain": [
       "<Figure size 700x500 with 1 Axes>"
      ]
     },
     "metadata": {},
     "output_type": "display_data"
    },
    {
     "name": "stdout",
     "output_type": "stream",
     "text": [
      "Test\n",
      "Tot: 2344 Ita: 417 Not: 1927\n"
     ]
    },
    {
     "data": {
      "image/png": "[encoded data removed]",
      "text/plain": [
       "<Figure size 700x500 with 1 Axes>"
      ]
     },
     "metadata": {},
     "output_type": "display_data"
    }
   ],
   "source": [
    "#For the training of the models i will use the agumented dataset, created in notebook Agumentation\n",
    "data=pd.read_csv('..\\\\..\\\\Dataset\\\\Dataset_agumented1.csv')\n",
    "print('Before cleaning:',len(data))\n",
    "data=claean_data(data)\n",
    "print('After cleaning:',len(data))\n",
    "data_splits=get_train_test_split(data)\n",
    "X_train_words=data_splits[0]\n",
    "X_test_words=data_splits[1]\n",
    "y_train=data_splits[2]\n",
    "y_test=data_splits[3]\n",
    "\n",
    "#Italian and not italian label distribution for trainig data\n",
    "print('Training')\n",
    "train_stats=get_stats_ita_not_ita(X_train_words,y_train)\n",
    "plot_stats_train_test_split(train_stats[0],train_stats[1],train_stats[2])\n",
    "\n",
    "#Italian and not italian label distribution for test data\n",
    "print('Test')\n",
    "get_stats_ita_not_ita(X_test_words,y_test)\n",
    "plot_stats_train_test_split(train_stats[0],train_stats[1],train_stats[2])"
   ]
  },
  {
   "attachments": {},
   "cell_type": "markdown",
   "metadata": {},
   "source": [
    "### Embedding data\n",
    "##### Endocding text data using Tf-If vectorizer (other solution could be word2vec, bert)\n",
    "##### Tf-idf limitation in this case are handling out-of-vocabolary words and puts more enphasis on the word\n",
    "##### Word2vec and Bert could be a better solution giving that they enphesis semantic of phrases and not single words"
   ]
  },
  {
   "cell_type": "code",
   "execution_count": 160,
   "metadata": {},
   "outputs": [],
   "source": [
    "tfidf_vectorizer = TfidfVectorizer() \n",
    "\n",
    "X_train = tfidf_vectorizer.fit_transform(X_train_words).toarray()\n",
    "save_embedding(tfidf_vectorizer,'tf_idf_after_agumentation_en_sp_fr')"
   ]
  },
  {
   "cell_type": "code",
   "execution_count": 161,
   "metadata": {},
   "outputs": [],
   "source": [
    "#trasform test set\n",
    "\n",
    "X_test=trasform_embedding(X_test_words,tfidf_vectorizer)"
   ]
  },
  {
   "attachments": {},
   "cell_type": "markdown",
   "metadata": {},
   "source": [
    "### Handling umbalanced data using SMOTE\n",
    "##### NOTE: SMOTE is not ideal for text oversampling but for time reasons i decided to use this rather then other cosutume solutions.\n"
   ]
  },
  {
   "cell_type": "code",
   "execution_count": 150,
   "metadata": {},
   "outputs": [
    {
     "name": "stdout",
     "output_type": "stream",
     "text": [
      "Before SMOTE\n",
      "Tot: 9373 Ita: 1666 Not: 7707\n",
      "Tot: 2344 Ita: 417 Not: 1927\n",
      "After SMOTE (training)\n",
      "Tot: 15414 Ita: 7707 Not: 7707\n"
     ]
    }
   ],
   "source": [
    "smote = SMOTE(random_state=42,k_neighbors=8)\n",
    "X, Y= smote.fit_resample(X_train, y_train)\n",
    "print('Before SMOTE')\n",
    "training_stats=get_stats_ita_not_ita(X_train,y_train)\n",
    "test_stats=get_stats_ita_not_ita(X_test,y_test)\n",
    "\n",
    "print('After SMOTE (training)')\n",
    "training_stats_SMOTE=get_stats_ita_not_ita(X,Y)"
   ]
  },
  {
   "attachments": {},
   "cell_type": "markdown",
   "metadata": {},
   "source": [
    "### MODEL SELECTION\n",
    "### 1. GaussianNB\n"
   ]
  },
  {
   "cell_type": "code",
   "execution_count": 162,
   "metadata": {},
   "outputs": [],
   "source": [
    "#Training model 2 - Bayesian model\n",
    "from sklearn.naive_bayes import GaussianNB\n",
    "model = GaussianNB()\n",
    "\n"
   ]
  },
  {
   "cell_type": "code",
   "execution_count": 152,
   "metadata": {},
   "outputs": [],
   "source": [
    "#model_gauss_stas = cross_validation(model, X_train, y_train, 5)"
   ]
  },
  {
   "cell_type": "code",
   "execution_count": 153,
   "metadata": {},
   "outputs": [],
   "source": [
    "#Visualizing Corss-validation accuracy\n",
    "#visualize_cross_val_accuracy('Gaussian model',model_gauss_stas)\n"
   ]
  },
  {
   "cell_type": "code",
   "execution_count": 154,
   "metadata": {},
   "outputs": [],
   "source": [
    "#Visualizing F1 cross-val score\n",
    "#visualize_cross_val_F1('Gaussian model',model_gauss_stas)\n"
   ]
  },
  {
   "cell_type": "code",
   "execution_count": 163,
   "metadata": {},
   "outputs": [],
   "source": [
    "#fitting the model \n",
    "#model.fit(X,Y)      #training with smote\n",
    "model.fit(X_train,y_train)  #whitout smote\n",
    "save_model(model,'Gaussian_model')"
   ]
  },
  {
   "cell_type": "code",
   "execution_count": 164,
   "metadata": {},
   "outputs": [],
   "source": [
    "#predicting the model\n",
    "model=load_model('..\\\\..\\\\models\\\\Gaussian_model.pkl')\n",
    "y_pred=model.predict(X_test)"
   ]
  },
  {
   "cell_type": "code",
   "execution_count": 165,
   "metadata": {},
   "outputs": [],
   "source": [
    "#creating a dataset of the predictions related to the test set\n",
    "data_set_gaussian=get_data_stats(X_test_words,y_pred,y_test)"
   ]
  },
  {
   "cell_type": "code",
   "execution_count": 166,
   "metadata": {},
   "outputs": [
    {
     "name": "stdout",
     "output_type": "stream",
     "text": [
      "36\n"
     ]
    }
   ],
   "source": [
    "#checking errors and correct predictions\n",
    "ERRORS=data_set_gaussian[data_set_gaussian['f(x)']!=data_set_gaussian['true']]\n",
    "Not_ERRORS=data_set_gaussian[data_set_gaussian['f(x)']==data_set_gaussian['true']]\n",
    "\n",
    "\n",
    "ERRORS.to_csv('..\\\\Error_analysis\\\\Docs\\\\Gaussian_errors.csv')\n",
    "print(len(ERRORS))\n",
    "Not_ERRORS.to_csv('..\\\\Error_analysis\\\\Docs\\\\Gaussian_correct.csv')\n"
   ]
  },
  {
   "cell_type": "code",
   "execution_count": 168,
   "metadata": {},
   "outputs": [
    {
     "name": "stdout",
     "output_type": "stream",
     "text": [
      "ACCURACY->Target: 0.97 Actual 0.984641638225256\n",
      "ACCURACY->Target: 0.95 Actual 0.9583333333333334\n",
      "Matt: 0.9497934447472787\n"
     ]
    }
   ],
   "source": [
    "#SCORES\n",
    "\n",
    "from sklearn.metrics import f1_score,accuracy_score\n",
    "from sklearn.metrics import matthews_corrcoef\n",
    "acc=accuracy_score(y_test,y_pred)\n",
    "f1=f1_score(y_test,y_pred)\n",
    "matt=matthews_corrcoef(y_test,y_pred)\n",
    "print('ACCURACY->Target:',target_acc,'Actual',acc)\n",
    "\n",
    "print('ACCURACY->Target:',target_f1,'Actual',f1)\n",
    "print('Matt:',matt)"
   ]
  },
  {
   "cell_type": "code",
   "execution_count": 179,
   "metadata": {},
   "outputs": [],
   "source": [
    "#training the model- Decision tree (hyperparam selecter: randomstae=0, criterion='Entropy')\n",
    "from sklearn.tree import DecisionTreeClassifier\n",
    "decision_tree_model = DecisionTreeClassifier(criterion=\"entropy\",\n",
    "                                     random_state=0)\n"
   ]
  },
  {
   "cell_type": "code",
   "execution_count": 180,
   "metadata": {},
   "outputs": [],
   "source": [
    "decision_tree_model.fit(X_train,y_train)\n",
    "save_model(decision_tree_model,'decision_tree_model')"
   ]
  },
  {
   "cell_type": "code",
   "execution_count": null,
   "metadata": {},
   "outputs": [],
   "source": [
    "\n",
    "decision_tree_model=load_model('decision_tree_model')\n",
    "y_pred=decision_tree_model.predict(X_test)\n",
    "acc=accuracy_score(y_test,y_pred)\n",
    "f1=f1_score(y_test,y_pred)\n",
    "matt=matthews_corrcoef(y_test,y_pred)\n",
    "print('ACCURACY->Target:',target_acc,'Actual',acc)\n",
    "\n",
    "print('ACCURACY->Target:',target_f1,'Actual',f1)\n",
    "print('Matt:',matt)\n"
   ]
  },
  {
   "cell_type": "code",
   "execution_count": null,
   "metadata": {},
   "outputs": [],
   "source": [
    "from sklearn.linear_model import LogisticRegression\n",
    "clf = LogisticRegression(random_state=0).fit(X_train, y_train)\n",
    "save_model(clf,'logistig_reg')"
   ]
  },
  {
   "cell_type": "code",
   "execution_count": null,
   "metadata": {},
   "outputs": [],
   "source": [
    "clf=load_model('decision_tree_model')\n",
    "y_pred=clf.predict(X_test)\n",
    "acc=accuracy_score(y_test,y_pred)\n",
    "f1=f1_score(y_test,y_pred)\n",
    "matt=matthews_corrcoef(y_test,y_pred)\n",
    "print('ACCURACY->Target:',target_acc,'Actual',acc)\n",
    "\n",
    "print('ACCURACY->Target:',target_f1,'Actual',f1)\n",
    "print('Matt:',matt)"
   ]
  },
  {
   "attachments": {},
   "cell_type": "markdown",
   "metadata": {},
   "source": [
    "### NOTE 1 (Embedding selection)\n",
    "#### Even if tf-idf vectorization has provided good performances both in accuracy and time complexity, it is not quite fitted for the task.\n",
    "#### As we can see from the errors generated from the model, many phrases are incorreclty classified for two main reasons:\n",
    "#### 1. Vocabulary Size and Out-of-Vocabulary (OOV) Words: The size of the vocabulary used in TF-IDF vectorization can impact the performance of the model. \n",
    "#### Large vocabularies can lead to increased computational complexity, memory usage, and slower training and inference times. Additionally, TF-IDF may not be effective in handling out-of-vocabulary (OOV) words, i.e., words that are not present in the vocabulary, which can result in loss of information for rare or domain-specific terms.\n",
    "#### 2.Lack of Semantic Meaning: tf-idf does not take in consideration the semantic meaning of phrases. This means for example given an italain phrase A similar to italian phrase B (which words are all embedded in the tf-idf matrix) even if A is semantically similar to B, the model does not know how to classify it. Another example of this strange behavior is for english words that are commonly used in the italian vocabolary (es. Big data).  If the tf-idf are computed without the words Big and Data in italain phrases, the input 'I big data sono il futuro' will be predicted as Not italian duo the present of the words 'Big' and 'Data'\n",
    "\n",
    "#### Improvments\n",
    "#### For this reasonos (and many others) to improve the model performace i should try to use a different embedding strategy such as pretrained word2vec, bert, doc2vec which are currently state-of-the art in NLP\n",
    "# ==========================================================0"
   ]
  },
  {
   "attachments": {},
   "cell_type": "markdown",
   "metadata": {},
   "source": [
    "### NOTE 2 (Oversampling SMOTE)\n",
    "#### SMOTE (Synthetic Minority Over-sampling Technique) is a popular technique for oversampling imbalanced datasets in machine learning, but it may not always be suitable for oversampling text data.\n",
    "#### SMOTE works by generating synthetic examples of minority class instances by interpolating between existing instances of the minority class.\n",
    "#### For this reason, when working with real data (real text having a specific structure, sematic and words) a simple interpolation could lead to the creation of none-sense text that have 0 informative contribution.\n",
    "\n",
    "#### In this case using SMOTE has provided a small increase of the accuracy and F1 score of the model. More precisely the accuracy increased from 0.965 (no SMOOTE) to 0.98 (SMOOTE) (+0.2), f1 has increased from 0.93(no SMOTE) to 0.955 (SMOTE) (+0.2), MCC has also increased of 0.2.\n",
    "\n",
    "### IMPROVMENTS\n",
    "#### A more effective way to handle unbalanced data when working with text in my opionio is to exploit word2vec or bert embeddings.\n",
    "#### Because these methods also store information regarding the semantic of words, new phrases to insert in the dataset could be created by \n",
    "#### swapping words with others semantically similar.\n",
    "\n",
    "#### Other ways to reduce the effect of unbalanced datasets is to gather new data (scraping or extending the agumentation logic implemented in Agumentation.ipynb) \n",
    "# =================================================================\n",
    "\n"
   ]
  },
  {
   "attachments": {},
   "cell_type": "markdown",
   "metadata": {},
   "source": [
    "### NOTE 3 (EVALUTION METRICS)\n",
    "#### Because the dataset provided is pretty unbalanced (even after Agumentation) and the SMOTE oversampling is not effective in this scenario, the evaluation of the model should consider this aspect. \n",
    "#### For this reason the model has been evaluated using these metrics:\n",
    "#### -Accuracy (which does not provide a good evaluation in unbalanced scenarios)\n",
    "#### -f1 (score is often considered a good evaluation metric for models trained on unbalanced data because it takes into account both precision and recall, which are important measures in such scenarios)\n",
    "#### -MCC (Matthews Correlation Coefficient)\n",
    "\n"
   ]
  },
  {
   "attachments": {},
   "cell_type": "markdown",
   "metadata": {},
   "source": [
    "### NOTE 4 (MODEL SELECTION)\n",
    "#### GaussianNB is known to be a good performing model in text classification. It is widly use in sentiment analysis, spam detection etc...\n",
    "#### In this case, given the simplicity of the task and the fact that the phrases of the dataset were not that big, using a neural network would be like 'shooting and ant with a cannon' as my professor would say\n",
    "#### GaussinaNB shows also better performace then Decisiontree and LogistcRegression"
   ]
  }
 ],
 "metadata": {
  "kernelspec": {
   "display_name": ".venv",
   "language": "python",
   "name": "python3"
  },
  "language_info": {
   "codemirror_mode": {
    "name": "ipython",
    "version": 3
   },
   "file_extension": ".py",
   "mimetype": "text/x-python",
   "name": "python",
   "nbconvert_exporter": "python",
   "pygments_lexer": "ipython3",
   "version": "3.9.13"
  },
  "orig_nbformat": 4
 },
 "nbformat": 4,
 "nbformat_minor": 2
}
