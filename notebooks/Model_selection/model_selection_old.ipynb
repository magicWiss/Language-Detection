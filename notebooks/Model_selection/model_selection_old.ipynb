{
 "cells": [
  {
   "attachments": {},
   "cell_type": "markdown",
   "metadata": {},
   "source": [
    "#### Selection and training best model\n",
    "#### Metric used are:\n",
    "#### Accuray, F1 score\n",
    "#### I will give more enphasis of F1 score because it is a more reliable evaluation metric when working with unbalanced data\n",
    "#### Targets are: F1>0.95, Accuracy>0.97\n"
   ]
  },
  {
   "cell_type": "code",
   "execution_count": 155,
   "metadata": {},
   "outputs": [],
   "source": [
    "#Importing data agumented\n",
    "import pandas as pd\n",
    "from sklearn.feature_extraction.text import CountVectorizer, TfidfVectorizer\n",
    "import pandas as pd\n",
    "from imblearn.over_sampling import RandomOverSampler, SMOTE\n",
    "from imblearn.under_sampling import RandomUnderSampler, NearMiss\n",
    "\n",
    "#For the training of the models i will use the agumented dataset, created in notebook Agumentation\n",
    "data=pd.read_csv('..\\\\Dataset\\\\Dataset_agumented1.csv')\n",
    "target_acc=0.97\n",
    "target_f1=0.95\n",
    "\n"
   ]
  },
  {
   "attachments": {},
   "cell_type": "markdown",
   "metadata": {},
   "source": [
    "##### Train test split (0.8 train, 0.2 test)"
   ]
  },
  {
   "cell_type": "code",
   "execution_count": 156,
   "metadata": {},
   "outputs": [],
   "source": [
    "\n",
    "from sklearn.model_selection import train_test_split\n",
    "X_train, X_test , y_train, y_test = train_test_split(data['Text'].values,data['Class'].values,test_size=0.2,random_state=123,stratify=data['Class'].values)"
   ]
  },
  {
   "attachments": {},
   "cell_type": "markdown",
   "metadata": {},
   "source": [
    "##### Endocding text data using Tf-If vectorizer (other solution could be word2vec, bert)\n",
    "##### Tf-idf limitation in this case are handling out-of-vocabolary words and puts more enphasis on the word\n",
    "##### Word2vec and Bert could be a better solution giving that they enphesis semantic of phrases and not single words"
   ]
  },
  {
   "cell_type": "code",
   "execution_count": 157,
   "metadata": {},
   "outputs": [],
   "source": [
    "#for this scenerio i will use the default version of the tfidf vectorizer with \n",
    "\n",
    "tfidf_vectorizer = TfidfVectorizer() \n",
    "\n",
    "tfidf_train_vectors = tfidf_vectorizer.fit_transform(X_train).toarray()\n",
    "\n",
    "tfidf_test_vectors = tfidf_vectorizer.transform(X_test).toarray()\n",
    "\n",
    "\n"
   ]
  },
  {
   "cell_type": "code",
   "execution_count": 1,
   "metadata": {},
   "outputs": [
    {
     "ename": "FileNotFoundError",
     "evalue": "[Errno 2] No such file or directory: '..\\\\models\\\\embeddings-tfIdf.pkl'",
     "output_type": "error",
     "traceback": [
      "\u001b[1;31m---------------------------------------------------------------------------\u001b[0m",
      "\u001b[1;31mFileNotFoundError\u001b[0m                         Traceback (most recent call last)",
      "Cell \u001b[1;32mIn[1], line 9\u001b[0m\n\u001b[0;32m      6\u001b[0m file_name\u001b[39m=\u001b[39m\u001b[39m'\u001b[39m\u001b[39membeddings-tfIdf\u001b[39m\u001b[39m'\u001b[39m\n\u001b[0;32m      7\u001b[0m Pkl_Filename \u001b[39m=\u001b[39m base_path\u001b[39m+\u001b[39mfile_name\u001b[39m+\u001b[39mextension  \n\u001b[1;32m----> 9\u001b[0m \u001b[39mwith\u001b[39;00m \u001b[39mopen\u001b[39;49m(Pkl_Filename, \u001b[39m'\u001b[39;49m\u001b[39mwb\u001b[39;49m\u001b[39m'\u001b[39;49m) \u001b[39mas\u001b[39;00m file:  \n\u001b[0;32m     10\u001b[0m     pickle\u001b[39m.\u001b[39mdump(tfidf_vectorizer, file)\n",
      "File \u001b[1;32mc:\\Users\\Wissel\\OneDrive\\Desktop\\Translated\\Project\\.venv\\lib\\site-packages\\IPython\\core\\interactiveshell.py:284\u001b[0m, in \u001b[0;36m_modified_open\u001b[1;34m(file, *args, **kwargs)\u001b[0m\n\u001b[0;32m    277\u001b[0m \u001b[39mif\u001b[39;00m file \u001b[39min\u001b[39;00m {\u001b[39m0\u001b[39m, \u001b[39m1\u001b[39m, \u001b[39m2\u001b[39m}:\n\u001b[0;32m    278\u001b[0m     \u001b[39mraise\u001b[39;00m \u001b[39mValueError\u001b[39;00m(\n\u001b[0;32m    279\u001b[0m         \u001b[39mf\u001b[39m\u001b[39m\"\u001b[39m\u001b[39mIPython won\u001b[39m\u001b[39m'\u001b[39m\u001b[39mt let you open fd=\u001b[39m\u001b[39m{\u001b[39;00mfile\u001b[39m}\u001b[39;00m\u001b[39m by default \u001b[39m\u001b[39m\"\u001b[39m\n\u001b[0;32m    280\u001b[0m         \u001b[39m\"\u001b[39m\u001b[39mas it is likely to crash IPython. If you know what you are doing, \u001b[39m\u001b[39m\"\u001b[39m\n\u001b[0;32m    281\u001b[0m         \u001b[39m\"\u001b[39m\u001b[39myou can use builtins\u001b[39m\u001b[39m'\u001b[39m\u001b[39m open.\u001b[39m\u001b[39m\"\u001b[39m\n\u001b[0;32m    282\u001b[0m     )\n\u001b[1;32m--> 284\u001b[0m \u001b[39mreturn\u001b[39;00m io_open(file, \u001b[39m*\u001b[39margs, \u001b[39m*\u001b[39m\u001b[39m*\u001b[39mkwargs)\n",
      "\u001b[1;31mFileNotFoundError\u001b[0m: [Errno 2] No such file or directory: '..\\\\models\\\\embeddings-tfIdf.pkl'"
     ]
    }
   ],
   "source": [
    "#saving the embeddings with pickle\n",
    "import pickle\n",
    "\n",
    "base_path=\"..\\\\..\\\\models\\\\\"\n",
    "extension='.pkl'\n",
    "file_name='embeddings-tfIdf'\n",
    "Pkl_Filename = base_path+file_name+extension  \n",
    "\n",
    "with open(Pkl_Filename, 'wb') as file:  \n",
    "    pickle.dump(tfidf_vectorizer, file)"
   ]
  },
  {
   "attachments": {},
   "cell_type": "markdown",
   "metadata": {},
   "source": [
    "##### Handling unbalanced data using SMOTE \n",
    "##### NOTE: SMOTE is not ideal for text oversampling but for time reasons i decided to use this rather then other cosutume solutions.\n"
   ]
  },
  {
   "cell_type": "code",
   "execution_count": 80,
   "metadata": {},
   "outputs": [],
   "source": [
    "\n",
    "from collections import Counter\n",
    "smote = SMOTE(random_state=42)\n",
    "X, Y= smote.fit_resample(tfidf_train_vectors, y_train)\n",
    "\n"
   ]
  },
  {
   "cell_type": "code",
   "execution_count": 17,
   "metadata": {},
   "outputs": [],
   "source": [
    "def get_stats_ita_not_ita(X,Y):\n",
    "    data=[]\n",
    "    i=0\n",
    "    for i in range(len(Y)):\n",
    "        data.append([X[i],Y[i]])\n",
    "\n",
    "    data_vis=pd.DataFrame(data=data,columns=['Text','Class'])\n",
    "    italian=len(data_vis[data_vis['Class']==1])\n",
    "    not_italian=len(data_vis[data_vis['Class']==0])\n",
    "    total=data_vis.shape[0]\n",
    "    print('Tot:',total,'Ita:',italian,'Not:',not_italian)\n",
    "    return (total,italian,not_italian)\n"
   ]
  },
  {
   "cell_type": "code",
   "execution_count": 83,
   "metadata": {},
   "outputs": [
    {
     "name": "stdout",
     "output_type": "stream",
     "text": [
      "Before SMOTE\n",
      "Tot: 9377 Ita: 1666 Not: 7711\n",
      "Tot: 2345 Ita: 417 Not: 1928\n",
      "After SMOTE (training)\n",
      "Tot: 15422 Ita: 7711 Not: 7711\n"
     ]
    }
   ],
   "source": [
    "print('Before SMOTE')\n",
    "training_stats=get_stats_ita_not_ita(X_train,y_train)\n",
    "test_stats=get_stats_ita_not_ita(X_test,y_test)\n",
    "\n",
    "print('After SMOTE (training)')\n",
    "training_stats_SMOTE=get_stats_ita_not_ita(X,Y)\n"
   ]
  },
  {
   "attachments": {},
   "cell_type": "markdown",
   "metadata": {},
   "source": [
    "##### CROSS VALIDATION FUN\n",
    "##### Type of Cross stratecy: 5-fold cross valdation"
   ]
  },
  {
   "cell_type": "code",
   "execution_count": 22,
   "metadata": {},
   "outputs": [],
   "source": [
    "# function for cross validation\n",
    "from sklearn.model_selection import cross_validate\n",
    "def cross_validation(model, _X, _y, _cv=5):\n",
    "      \n",
    "      _scoring = ['accuracy', 'precision', 'recall', 'f1']\n",
    "      results = cross_validate(estimator=model,\n",
    "                               X=_X,\n",
    "                               y=_y,\n",
    "                               cv=_cv,\n",
    "                               scoring=_scoring,\n",
    "                               return_train_score=True)\n",
    "      \n",
    "      return {\"Training Accuracy scores\": results['train_accuracy'],\n",
    "              \"Mean Training Accuracy\": results['train_accuracy'].mean()*100,\n",
    "              \"Training Precision scores\": results['train_precision'],\n",
    "              \"Mean Training Precision\": results['train_precision'].mean(),\n",
    "              \"Training Recall scores\": results['train_recall'],\n",
    "              \"Mean Training Recall\": results['train_recall'].mean(),\n",
    "              \"Training F1 scores\": results['train_f1'],\n",
    "              \"Mean Training F1 Score\": results['train_f1'].mean(),\n",
    "              \"Validation Accuracy scores\": results['test_accuracy'],\n",
    "              \"Mean Validation Accuracy\": results['test_accuracy'].mean()*100,\n",
    "              \"Validation Precision scores\": results['test_precision'],\n",
    "              \"Mean Validation Precision\": results['test_precision'].mean(),\n",
    "              \"Validation Recall scores\": results['test_recall'],\n",
    "              \"Mean Validation Recall\": results['test_recall'].mean(),\n",
    "              \"Validation F1 scores\": results['test_f1'],\n",
    "              \"Mean Validation F1 Score\": results['test_f1'].mean(),\n",
    "              \n",
    "              }"
   ]
  },
  {
   "attachments": {},
   "cell_type": "markdown",
   "metadata": {},
   "source": [
    "##### Visualiziong Cross validation results"
   ]
  },
  {
   "cell_type": "code",
   "execution_count": 23,
   "metadata": {},
   "outputs": [],
   "source": [
    "#method for plot\n",
    "import matplotlib.pyplot as plt\n",
    "import numpy as np\n",
    "def plot_result(x_label, y_label, plot_title, train_data, val_data):\n",
    "        \n",
    "        \n",
    "        # Set size of plot\n",
    "        plt.figure(figsize=(8,5))\n",
    "        labels = [\"1st Fold\", \"2nd Fold\", \"3rd Fold\", \"4th Fold\", \"5th Fold\"]\n",
    "        X_axis = np.arange(len(labels))\n",
    "        ax = plt.gca()\n",
    "        plt.ylim(0.40000, 1)\n",
    "        plt.bar(X_axis-0.2, train_data, 0.4, color='blue', label='Training')\n",
    "        plt.bar(X_axis+0.2, val_data, 0.4, color='red', label='Validation')\n",
    "        plt.title(plot_title, fontsize=30)\n",
    "        plt.xticks(X_axis, labels)\n",
    "        plt.xlabel(x_label, fontsize=14)\n",
    "        plt.ylabel(y_label, fontsize=14)\n",
    "        plt.legend()\n",
    "        plt.grid(True)\n",
    "        plt.show()"
   ]
  },
  {
   "cell_type": "code",
   "execution_count": 27,
   "metadata": {},
   "outputs": [],
   "source": [
    "#SAVE MODEL METHOD\n",
    "#Saving the model\n",
    "import pickle\n",
    "def save_model(model,fileName):\n",
    "    base_path=\"..\\\\..\\\\models\\\\\"\n",
    "    extension='.pkl'\n",
    "    Pkl_Filename = base_path+fileName+extension  \n",
    "\n",
    "    with open(Pkl_Filename, 'wb') as file:  \n",
    "        pickle.dump(model, file)"
   ]
  },
  {
   "cell_type": "code",
   "execution_count": 25,
   "metadata": {},
   "outputs": [],
   "source": [
    "#LOAD MODEL FUN\n",
    "def load_model(name):\n",
    "    with open(name, 'rb') as file:  \n",
    "        model = pickle.load(file)\n",
    "    return model"
   ]
  },
  {
   "cell_type": "code",
   "execution_count": 26,
   "metadata": {},
   "outputs": [],
   "source": [
    "def get_data_stats(X,Y,Y_true):\n",
    "    data=[]\n",
    "    for i in range(0,len(X)):\n",
    "        data.append([X[i],Y[i],Y_true[i]])\n",
    "    \n",
    "    out=pd.DataFrame(data=data,columns=['Text','f(x)','true'])\n",
    "    return out"
   ]
  },
  {
   "attachments": {},
   "cell_type": "markdown",
   "metadata": {},
   "source": [
    "##### 1. First model: DecisionTreeClassifier (hp: criteria='entropy', randomstate=0 (default version)"
   ]
  },
  {
   "cell_type": "code",
   "execution_count": null,
   "metadata": {},
   "outputs": [],
   "source": [
    "#training the model- Decision tree (hyperparam selecter: randomstae=0, criterion='Entropy')\n",
    "from sklearn.tree import DecisionTreeClassifier\n",
    "decision_tree_model = DecisionTreeClassifier(criterion=\"entropy\",\n",
    "                                     random_state=0)"
   ]
  },
  {
   "cell_type": "code",
   "execution_count": 68,
   "metadata": {},
   "outputs": [],
   "source": [
    "#training the model- Decision tree (hyperparam selecter: randomstae=0, criterion='Entropy')\n",
    "from sklearn.tree import DecisionTreeClassifier\n",
    "decision_tree_model = DecisionTreeClassifier(criterion=\"entropy\",\n",
    "                                     random_state=0)\n",
    "\n"
   ]
  },
  {
   "cell_type": "code",
   "execution_count": null,
   "metadata": {},
   "outputs": [],
   "source": [
    "decision_tree_result = cross_validation(decision_tree_model, X, Y, 5)"
   ]
  },
  {
   "cell_type": "code",
   "execution_count": null,
   "metadata": {},
   "outputs": [],
   "source": [
    "#Visualizing the traing accuracy and validation accuracy\n",
    "model_name = \"Decision Tree\"\n",
    "plot_result(model_name,\n",
    "            \"Accuracy\",\n",
    "            \"Accuracy scores in 5 Folds\",\n",
    "            decision_tree_result[\"Training Accuracy scores\"],\n",
    "            decision_tree_result[\"Validation Accuracy scores\"])"
   ]
  },
  {
   "cell_type": "code",
   "execution_count": null,
   "metadata": {},
   "outputs": [],
   "source": [
    "#Visualizing the traing F1 and validation F1\n",
    "model_name = \"Decision Tree\"\n",
    "plot_result(model_name,\n",
    "            \"F1\",\n",
    "            \"F1 scores in 5 fold\",\n",
    "            decision_tree_result[\"Training F1 scores\"],\n",
    "            decision_tree_result[\"Validation F1 scores\"])"
   ]
  },
  {
   "cell_type": "code",
   "execution_count": 69,
   "metadata": {},
   "outputs": [],
   "source": [
    "decision_tree_model.fit(tfidf_train_vectors,y_train)\n",
    "save_model(decision_tree_model,'decision_tree_model')"
   ]
  },
  {
   "cell_type": "code",
   "execution_count": 89,
   "metadata": {},
   "outputs": [
    {
     "name": "stdout",
     "output_type": "stream",
     "text": [
      "43\n"
     ]
    }
   ],
   "source": [
    "model=load_model('..\\\\..\\\\models\\\\decision_tree_model.pkl')\n",
    "y_pred=model.predict(tfidf_test_vectors)\n",
    "\n"
   ]
  },
  {
   "cell_type": "code",
   "execution_count": 94,
   "metadata": {},
   "outputs": [
    {
     "name": "stdout",
     "output_type": "stream",
     "text": [
      "43\n"
     ]
    }
   ],
   "source": [
    "data_set_tree=get_data_stats(X_test,y_pred,y_test)\n",
    "ERRORS=data_set_tree[data_set_tree['f(x)']!=data_set_tree['true']]\n",
    "print(len(ERRORS))\n",
    "ERRORS.to_csv('DecisionTree_errors.csv')"
   ]
  },
  {
   "cell_type": "code",
   "execution_count": 95,
   "metadata": {},
   "outputs": [
    {
     "name": "stdout",
     "output_type": "stream",
     "text": [
      "ACCURACY->Target: 0.97 Actual 0.9816631130063966\n",
      "ACCURACY->Target: 0.95 Actual 0.9480048367593713\n"
     ]
    }
   ],
   "source": [
    "\n",
    "from sklearn.metrics import f1_score,accuracy_score\n",
    "acc=accuracy_score(y_test,y_pred)\n",
    "f1=f1_score(y_test,y_pred)\n",
    "print('ACCURACY->Target:',target_acc,'Actual',acc)\n",
    "\n",
    "print('ACCURACY->Target:',target_f1,'Actual',f1)"
   ]
  },
  {
   "attachments": {},
   "cell_type": "markdown",
   "metadata": {},
   "source": [
    "##### 2. Model: Bayesian Classifier"
   ]
  },
  {
   "cell_type": "code",
   "execution_count": 42,
   "metadata": {},
   "outputs": [
    {
     "ename": "KeyboardInterrupt",
     "evalue": "",
     "output_type": "error",
     "traceback": [
      "\u001b[1;31m---------------------------------------------------------------------------\u001b[0m",
      "\u001b[1;31mKeyboardInterrupt\u001b[0m                         Traceback (most recent call last)",
      "Cell \u001b[1;32mIn[42], line 5\u001b[0m\n\u001b[0;32m      3\u001b[0m model \u001b[39m=\u001b[39m GaussianNB()\n\u001b[0;32m      4\u001b[0m \u001b[39m#model_gauss_stas = cross_validation(model, X, Y, 5)\u001b[39;00m\n\u001b[1;32m----> 5\u001b[0m model\u001b[39m.\u001b[39;49mfit(X,Y)\n",
      "File \u001b[1;32mc:\\Users\\Wissel\\OneDrive\\Desktop\\Translated\\Project\\.venv\\lib\\site-packages\\sklearn\\naive_bayes.py:267\u001b[0m, in \u001b[0;36mGaussianNB.fit\u001b[1;34m(self, X, y, sample_weight)\u001b[0m\n\u001b[0;32m    265\u001b[0m \u001b[39mself\u001b[39m\u001b[39m.\u001b[39m_validate_params()\n\u001b[0;32m    266\u001b[0m y \u001b[39m=\u001b[39m \u001b[39mself\u001b[39m\u001b[39m.\u001b[39m_validate_data(y\u001b[39m=\u001b[39my)\n\u001b[1;32m--> 267\u001b[0m \u001b[39mreturn\u001b[39;00m \u001b[39mself\u001b[39;49m\u001b[39m.\u001b[39;49m_partial_fit(\n\u001b[0;32m    268\u001b[0m     X, y, np\u001b[39m.\u001b[39;49munique(y), _refit\u001b[39m=\u001b[39;49m\u001b[39mTrue\u001b[39;49;00m, sample_weight\u001b[39m=\u001b[39;49msample_weight\n\u001b[0;32m    269\u001b[0m )\n",
      "File \u001b[1;32mc:\\Users\\Wissel\\OneDrive\\Desktop\\Translated\\Project\\.venv\\lib\\site-packages\\sklearn\\naive_bayes.py:494\u001b[0m, in \u001b[0;36mGaussianNB._partial_fit\u001b[1;34m(self, X, y, classes, _refit, sample_weight)\u001b[0m\n\u001b[0;32m    491\u001b[0m     sw_i \u001b[39m=\u001b[39m \u001b[39mNone\u001b[39;00m\n\u001b[0;32m    492\u001b[0m     N_i \u001b[39m=\u001b[39m X_i\u001b[39m.\u001b[39mshape[\u001b[39m0\u001b[39m]\n\u001b[1;32m--> 494\u001b[0m new_theta, new_sigma \u001b[39m=\u001b[39m \u001b[39mself\u001b[39;49m\u001b[39m.\u001b[39;49m_update_mean_variance(\n\u001b[0;32m    495\u001b[0m     \u001b[39mself\u001b[39;49m\u001b[39m.\u001b[39;49mclass_count_[i], \u001b[39mself\u001b[39;49m\u001b[39m.\u001b[39;49mtheta_[i, :], \u001b[39mself\u001b[39;49m\u001b[39m.\u001b[39;49mvar_[i, :], X_i, sw_i\n\u001b[0;32m    496\u001b[0m )\n\u001b[0;32m    498\u001b[0m \u001b[39mself\u001b[39m\u001b[39m.\u001b[39mtheta_[i, :] \u001b[39m=\u001b[39m new_theta\n\u001b[0;32m    499\u001b[0m \u001b[39mself\u001b[39m\u001b[39m.\u001b[39mvar_[i, :] \u001b[39m=\u001b[39m new_sigma\n",
      "File \u001b[1;32mc:\\Users\\Wissel\\OneDrive\\Desktop\\Translated\\Project\\.venv\\lib\\site-packages\\sklearn\\naive_bayes.py:327\u001b[0m, in \u001b[0;36mGaussianNB._update_mean_variance\u001b[1;34m(n_past, mu, var, X, sample_weight)\u001b[0m\n\u001b[0;32m    325\u001b[0m \u001b[39melse\u001b[39;00m:\n\u001b[0;32m    326\u001b[0m     n_new \u001b[39m=\u001b[39m X\u001b[39m.\u001b[39mshape[\u001b[39m0\u001b[39m]\n\u001b[1;32m--> 327\u001b[0m     new_var \u001b[39m=\u001b[39m np\u001b[39m.\u001b[39;49mvar(X, axis\u001b[39m=\u001b[39;49m\u001b[39m0\u001b[39;49m)\n\u001b[0;32m    328\u001b[0m     new_mu \u001b[39m=\u001b[39m np\u001b[39m.\u001b[39mmean(X, axis\u001b[39m=\u001b[39m\u001b[39m0\u001b[39m)\n\u001b[0;32m    330\u001b[0m \u001b[39mif\u001b[39;00m n_past \u001b[39m==\u001b[39m \u001b[39m0\u001b[39m:\n",
      "File \u001b[1;32m<__array_function__ internals>:200\u001b[0m, in \u001b[0;36mvar\u001b[1;34m(*args, **kwargs)\u001b[0m\n",
      "\u001b[1;31mKeyboardInterrupt\u001b[0m: "
     ]
    }
   ],
   "source": [
    "#Training model 2 - Bayesian model\n",
    "from sklearn.naive_bayes import GaussianNB\n",
    "model = GaussianNB()\n",
    "\n",
    "\n"
   ]
  },
  {
   "cell_type": "code",
   "execution_count": null,
   "metadata": {},
   "outputs": [],
   "source": [
    "model_gauss_stas = cross_validation(model, X, Y, 5)"
   ]
  },
  {
   "cell_type": "code",
   "execution_count": 33,
   "metadata": {},
   "outputs": [
    {
     "data": {
      "image/png": "[encoded data removed]",
      "text/plain": [
       "<Figure size 800x500 with 1 Axes>"
      ]
     },
     "metadata": {},
     "output_type": "display_data"
    }
   ],
   "source": [
    "#Visualizing the traing accuracy and validation accuracy\n",
    "model_name = \"Gaussian Model\"\n",
    "plot_result(model_name,\n",
    "            \"Accuracy\",\n",
    "            \"Accuracy scores in 5 Folds\",\n",
    "            model_gauss_stas[\"Training Accuracy scores\"],\n",
    "            model_gauss_stas[\"Validation Accuracy scores\"])"
   ]
  },
  {
   "cell_type": "code",
   "execution_count": 34,
   "metadata": {},
   "outputs": [
    {
     "data": {
      "image/png": "[encoded data removed]",
      "text/plain": [
       "<Figure size 800x500 with 1 Axes>"
      ]
     },
     "metadata": {},
     "output_type": "display_data"
    }
   ],
   "source": [
    "#Visualizing the traing F1 and validation F1\n",
    "model_name = \"Gaussian Model\"\n",
    "plot_result(model_name,\n",
    "            \"F1\",\n",
    "            \"F1 scores in 5 fold\",\n",
    "            model_gauss_stas[\"Training F1 scores\"],\n",
    "            model_gauss_stas[\"Validation F1 scores\"])"
   ]
  },
  {
   "cell_type": "code",
   "execution_count": null,
   "metadata": {},
   "outputs": [],
   "source": [
    "model.fit(X,Y)      #training\n",
    "save_model(model,'Gaussian_model')"
   ]
  },
  {
   "cell_type": "code",
   "execution_count": 171,
   "metadata": {},
   "outputs": [],
   "source": [
    "# Load the Model back from file\n",
    "\n",
    "\n",
    "model=load_model('..\\\\..\\\\models\\\\Gaussian_model.pkl')\n",
    "y_pred=model.predict(tfidf_test_vectors)\n",
    "\n",
    "\n",
    "\n",
    "\n",
    "\n",
    "\n",
    "\n"
   ]
  },
  {
   "cell_type": "code",
   "execution_count": 167,
   "metadata": {},
   "outputs": [],
   "source": [
    "data_set_gaussian=get_data_stats(X_test,y_pred,y_test)\n",
    "ERRORS=data_set_gaussian[data_set_gaussian['f(x)']!=data_set_gaussian['true']]\n",
    "Not_ERRORS=data_set_gaussian[data_set_gaussian['f(x)']==data_set_gaussian['true']]\n",
    "\n",
    "\n",
    "ERRORS.to_csv('Gaussian_errors.csv')\n",
    "Not_ERRORS.to_csv('Gaussian_correct.csv')\n"
   ]
  },
  {
   "cell_type": "code",
   "execution_count": 100,
   "metadata": {},
   "outputs": [
    {
     "name": "stdout",
     "output_type": "stream",
     "text": [
      "ACCURACY->Target: 0.97 Actual 0.9829424307036247\n",
      "ACCURACY->Target: 0.95 Actual 0.9539170506912442\n"
     ]
    }
   ],
   "source": [
    "#SCORES\n",
    "\n",
    "from sklearn.metrics import f1_score,accuracy_score\n",
    "acc=accuracy_score(y_test,y_pred)\n",
    "f1=f1_score(y_test,y_pred)\n",
    "print('ACCURACY->Target:',target_acc,'Actual',acc)\n",
    "\n",
    "print('ACCURACY->Target:',target_f1,'Actual',f1)"
   ]
  },
  {
   "attachments": {},
   "cell_type": "markdown",
   "metadata": {},
   "source": [
    "### MOdel selecter: Bayesian classifier\n",
    "### Fast and better f1 score"
   ]
  },
  {
   "attachments": {},
   "cell_type": "markdown",
   "metadata": {},
   "source": [
    "#### Analytics of error text"
   ]
  },
  {
   "cell_type": "code",
   "execution_count": 144,
   "metadata": {},
   "outputs": [],
   "source": [
    "def analyze_sing_error(word, vocabolary):\n",
    "        single_word_string=\"\"\n",
    "        entry=vocabolary[vocabolary['Word']==word]\n",
    "        total_count=entry['Total_count'].values\n",
    "        ita_count=entry['Count_ita'].values\n",
    "        other_count=entry['Count_other'].values\n",
    "        single_word_string='Word: '+str(word)+' Total_count: '+str(total_count)+ ' Ita_count: '+str(ita_count)+ ' Other_count: '+str(other_count)\n",
    "        return single_word_string\n"
   ]
  },
  {
   "cell_type": "code",
   "execution_count": 145,
   "metadata": {},
   "outputs": [],
   "source": [
    "def analyze_error(word, words_vocabolary):\n",
    "    single_entry_string=\"\"\n",
    "    single_entry_string=\"Phrase: \"+word+\"\\n\"\n",
    "    phrase_words=word.split(' ')\n",
    "    for w in phrase_words:\n",
    "        single_entry_string+=analyze_sing_error(w,words_vocabolary)\n",
    "    return single_entry_string\n",
    "        \n",
    "    \n",
    "    \n",
    "    \n",
    "    "
   ]
  },
  {
   "cell_type": "code",
   "execution_count": 154,
   "metadata": {},
   "outputs": [],
   "source": [
    "#we analyze the errors made by the model and try to figure out why these errors where made\n",
    "#we use the words.csv file created in the profiling notepad and the Gaussian_errors.csv \n",
    "errors=pd.read_csv('Gaussian_errors.csv')\n",
    "correct=pd.read_csv('Gaussian_correct.csv')\n",
    "words=pd.read_csv('..\\\\Dataset\\\\words.csv')\n",
    "words=words.drop(['Unnamed: 0'],axis=1)\n",
    "\n",
    "\n",
    "\n",
    "error_words=errors['Text'].to_list()\n",
    "\n",
    "string_errors=''\n",
    "for i in error_words:\n",
    "    string_errors+=analyze_error(i,words)+'\\n'\n",
    "    string_errors+='============\\n'\n",
    "\n",
    "\n",
    "with open('Error_analysis.txt', 'w',encoding='UTF-8') as f:\n",
    "    f.write(string_errors)\n",
    "\n",
    "correct_words=correct['Text'].head(50).to_list()\n",
    "\n",
    "#correct_elements analysis\n",
    "string_correct=''\n",
    "for i in correct_words:\n",
    "    string_correct+=analyze_error(i,words)+'\\n'\n",
    "    string_correct+='============\\n'\n",
    "\n",
    "\n",
    "with open('Correct_analysis.txt', 'w',encoding='UTF-8') as f:\n",
    "    f.write(string_correct)\n"
   ]
  },
  {
   "attachments": {},
   "cell_type": "markdown",
   "metadata": {},
   "source": [
    "### New Gaussian model after french and spanish agumentation"
   ]
  },
  {
   "cell_type": "code",
   "execution_count": 3,
   "metadata": {},
   "outputs": [],
   "source": [
    "#Importing data agumented\n",
    "import pandas as pd\n",
    "from sklearn.feature_extraction.text import CountVectorizer, TfidfVectorizer\n",
    "import pandas as pd\n",
    "from imblearn.over_sampling import RandomOverSampler, SMOTE\n",
    "from imblearn.under_sampling import RandomUnderSampler, NearMiss\n",
    "\n",
    "#For the training of the models i will use the agumented dataset, created in notebook Agumentation\n",
    "data=pd.read_csv('..\\\\..\\\\Dataset\\\\Dataset_agumented1.csv')\n",
    "\n",
    "\n",
    "target_acc=0.97\n",
    "target_f1=0.95"
   ]
  },
  {
   "cell_type": "code",
   "execution_count": 7,
   "metadata": {},
   "outputs": [],
   "source": [
    "data=data.fillna('0')\n"
   ]
  },
  {
   "cell_type": "code",
   "execution_count": 10,
   "metadata": {},
   "outputs": [],
   "source": [
    "data=data[data['Text']!='0']\n"
   ]
  },
  {
   "cell_type": "code",
   "execution_count": 12,
   "metadata": {},
   "outputs": [],
   "source": [
    "# New model training after spanish, french agumentation\n",
    "from sklearn.model_selection import train_test_split\n",
    "X_train, X_test , y_train, y_test = train_test_split(data['Text'].values,data['Class'].values,test_size=0.2,random_state=123,stratify=data['Class'].values)\n"
   ]
  },
  {
   "cell_type": "code",
   "execution_count": 13,
   "metadata": {},
   "outputs": [],
   "source": [
    "tfidf_vectorizer = TfidfVectorizer() \n",
    "\n",
    "tfidf_train_vectors = tfidf_vectorizer.fit_transform(X_train).toarray()\n",
    "\n",
    "tfidf_test_vectors = tfidf_vectorizer.transform(X_test).toarray()\n"
   ]
  },
  {
   "cell_type": "code",
   "execution_count": 14,
   "metadata": {},
   "outputs": [],
   "source": [
    "#saving the embeddings with pickle\n",
    "import pickle\n",
    "\n",
    "base_path=\"..\\\\..\\\\models\\\\\"\n",
    "extension='.pkl'\n",
    "file_name='embeddings-tfIdf-agm'\n",
    "Pkl_Filename = base_path+file_name+extension  \n",
    "\n",
    "with open(Pkl_Filename, 'wb') as file:  \n",
    "    pickle.dump(tfidf_vectorizer, file)"
   ]
  },
  {
   "cell_type": "code",
   "execution_count": 15,
   "metadata": {},
   "outputs": [],
   "source": [
    "from collections import Counter\n",
    "smote = SMOTE(random_state=42)\n",
    "X, Y= smote.fit_resample(tfidf_train_vectors, y_train)"
   ]
  },
  {
   "cell_type": "code",
   "execution_count": 18,
   "metadata": {},
   "outputs": [
    {
     "name": "stdout",
     "output_type": "stream",
     "text": [
      "Before SMOTE\n",
      "Tot: 10184 Ita: 2477 Not: 7707\n",
      "Tot: 2547 Ita: 620 Not: 1927\n",
      "After SMOTE (training)\n",
      "Tot: 15414 Ita: 7707 Not: 7707\n"
     ]
    }
   ],
   "source": [
    "print('Before SMOTE')\n",
    "training_stats=get_stats_ita_not_ita(X_train,y_train)\n",
    "test_stats=get_stats_ita_not_ita(X_test,y_test)\n",
    "\n",
    "print('After SMOTE (training)')\n",
    "training_stats_SMOTE=get_stats_ita_not_ita(X,Y)"
   ]
  },
  {
   "cell_type": "code",
   "execution_count": 28,
   "metadata": {},
   "outputs": [],
   "source": [
    "#Training model 2 - Bayesian model\n",
    "from sklearn.naive_bayes import GaussianNB\n",
    "model = GaussianNB()"
   ]
  },
  {
   "cell_type": "code",
   "execution_count": 29,
   "metadata": {},
   "outputs": [],
   "source": [
    "model_gauss_stas = cross_validation(model, X, Y, 5)"
   ]
  }
 ],
 "metadata": {
  "kernelspec": {
   "display_name": ".venv",
   "language": "python",
   "name": "python3"
  },
  "language_info": {
   "codemirror_mode": {
    "name": "ipython",
    "version": 3
   },
   "file_extension": ".py",
   "mimetype": "text/x-python",
   "name": "python",
   "nbconvert_exporter": "python",
   "pygments_lexer": "ipython3",
   "version": "3.9.13"
  },
  "orig_nbformat": 4
 },
 "nbformat": 4,
 "nbformat_minor": 2
}
