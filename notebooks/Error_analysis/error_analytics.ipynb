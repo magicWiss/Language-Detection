{
 "cells": [
  {
   "attachments": {},
   "cell_type": "markdown",
   "metadata": {},
   "source": [
    "### Error analytic notebook\n",
    "#### This notebook is concerned with the analysis of the error made by the model on the test set.\n",
    "#### The correct predictions and errors can be found in the following notebooks: Gaussian_correct.csv, Gaussina_errors.csv \n"
   ]
  },
  {
   "cell_type": "code",
   "execution_count": 11,
   "metadata": {},
   "outputs": [],
   "source": [
    "import pandas as pd"
   ]
  },
  {
   "cell_type": "code",
   "execution_count": 15,
   "metadata": {},
   "outputs": [],
   "source": [
    "def analyze_sing_error(word, vocabolary):\n",
    "        single_word_string=\"\"\n",
    "        entry=vocabolary[vocabolary['Word']==word]\n",
    "        total_count=entry['Total_count'].values\n",
    "        ita_count=entry['Count_ita'].values\n",
    "        other_count=entry['Count_other'].values\n",
    "        single_word_string='Word: '+str(word)+' Total_count: '+str(total_count)+ ' Ita_count: '+str(ita_count)+ ' Other_count: '+str(other_count)+'\\n'\n",
    "        return single_word_string\n"
   ]
  },
  {
   "cell_type": "code",
   "execution_count": 16,
   "metadata": {},
   "outputs": [],
   "source": [
    "def analyze_error(word, words_vocabolary):\n",
    "    single_entry_string=\"\"\n",
    "    single_entry_string=\"Phrase: \"+word+\"\\n\"\n",
    "    phrase_words=word.split(' ')\n",
    "    for w in phrase_words:\n",
    "        single_entry_string+=analyze_sing_error(w,words_vocabolary)\n",
    "    return single_entry_string"
   ]
  },
  {
   "cell_type": "code",
   "execution_count": 14,
   "metadata": {},
   "outputs": [],
   "source": [
    "#we analyze the errors made by the model and try to figure out why these errors where made\n",
    "#we use the words.csv file created in the profiling notepad and the Gaussian_errors.csv \n",
    "errors=pd.read_csv('Docs\\Gaussian_errors.csv')\n",
    "correct=pd.read_csv('Docs\\Gaussian_correct.csv')\n",
    "words=pd.read_csv('..\\\\..\\\\Dataset\\\\words.csv')\n",
    "words=words.drop(['Unnamed: 0'],axis=1)\n",
    "\n",
    "\n",
    "\n",
    "error_words=errors['Text'].to_list()\n",
    "\n",
    "string_errors=''\n",
    "for i in error_words:\n",
    "    string_errors+=analyze_error(i,words)+'\\n'\n",
    "    string_errors+='============\\n'\n",
    "\n",
    "\n",
    "with open('Docs\\Error_analysis.txt', 'w',encoding='UTF-8') as f:\n",
    "    f.write(string_errors)\n",
    "\n",
    "correct_words=correct['Text'].head(50).to_list()\n",
    "\n",
    "#correct_elements analysis\n",
    "string_correct=''\n",
    "for i in correct_words:\n",
    "    string_correct+=analyze_error(i,words)+'\\n'\n",
    "    string_correct+='============\\n'\n",
    "\n",
    "\n",
    "with open('Docs\\Correct_analysis.txt', 'w',encoding='UTF-8') as f:\n",
    "    f.write(string_correct)"
   ]
  },
  {
   "attachments": {},
   "cell_type": "markdown",
   "metadata": {},
   "source": [
    "### NOTE 1\n",
    "#### "
   ]
  }
 ],
 "metadata": {
  "kernelspec": {
   "display_name": ".venv",
   "language": "python",
   "name": "python3"
  },
  "language_info": {
   "codemirror_mode": {
    "name": "ipython",
    "version": 3
   },
   "file_extension": ".py",
   "mimetype": "text/x-python",
   "name": "python",
   "nbconvert_exporter": "python",
   "pygments_lexer": "ipython3",
   "version": "3.9.13"
  },
  "orig_nbformat": 4
 },
 "nbformat": 4,
 "nbformat_minor": 2
}
